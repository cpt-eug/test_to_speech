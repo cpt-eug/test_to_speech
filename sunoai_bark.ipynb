{
 "cells": [
  {
   "cell_type": "code",
   "execution_count": 1,
   "metadata": {},
   "outputs": [
    {
     "name": "stderr",
     "output_type": "stream",
     "text": [
      "d:\\DE Projects\\generative ai\\text_to_speech\\tts_env\\lib\\site-packages\\tqdm\\auto.py:21: TqdmWarning: IProgress not found. Please update jupyter and ipywidgets. See https://ipywidgets.readthedocs.io/en/stable/user_install.html\n",
      "  from .autonotebook import tqdm as notebook_tqdm\n"
     ]
    }
   ],
   "source": [
    "import os\n",
    "\n",
    "os.environ[\"CUDA_VISIBLE_DEVICES\"] = \"\"\n",
    "os.environ[\"SUNO_USE_SMALL_MODELS\"] = \"1\"\n",
    "\n",
    "from IPython.display import Audio\n",
    "import numpy as np\n",
    "\n",
    "from bark import generate_audio, preload_models, SAMPLE_RATE\n",
    "\n",
    "import time"
   ]
  },
  {
   "cell_type": "code",
   "execution_count": 2,
   "metadata": {},
   "outputs": [
    {
     "name": "stderr",
     "output_type": "stream",
     "text": [
      "No GPU being used. Careful, inference might be very slow!\n",
      "text.pt: 100%|██████████| 2.32G/2.32G [07:29<00:00, 5.16MB/s]\n",
      "d:\\DE Projects\\generative ai\\text_to_speech\\tts_env\\lib\\site-packages\\huggingface_hub\\file_download.py:149: UserWarning: `huggingface_hub` cache-system uses symlinks by default to efficiently store duplicated files but your machine does not support them in C:\\Users\\EFERRANCULLO\\.cache. Caching files will still work but in a degraded version that might require more space on your disk. This warning can be disabled by setting the `HF_HUB_DISABLE_SYMLINKS_WARNING` environment variable. For more details, see https://huggingface.co/docs/huggingface_hub/how-to-cache#limitations.\n",
      "To support symlinks on Windows, you either need to activate Developer Mode or to run Python as an administrator. In order to see activate developer mode, see this article: https://docs.microsoft.com/en-us/windows/apps/get-started/enable-your-device-for-development\n",
      "  warnings.warn(message)\n",
      "tokenizer_config.json: 100%|██████████| 29.0/29.0 [00:00<00:00, 5.78kB/s]\n",
      "d:\\DE Projects\\generative ai\\text_to_speech\\tts_env\\lib\\site-packages\\huggingface_hub\\file_download.py:149: UserWarning: `huggingface_hub` cache-system uses symlinks by default to efficiently store duplicated files but your machine does not support them in C:\\Users\\EFERRANCULLO\\.cache\\huggingface\\hub\\models--bert-base-multilingual-cased. Caching files will still work but in a degraded version that might require more space on your disk. This warning can be disabled by setting the `HF_HUB_DISABLE_SYMLINKS_WARNING` environment variable. For more details, see https://huggingface.co/docs/huggingface_hub/how-to-cache#limitations.\n",
      "To support symlinks on Windows, you either need to activate Developer Mode or to run Python as an administrator. In order to see activate developer mode, see this article: https://docs.microsoft.com/en-us/windows/apps/get-started/enable-your-device-for-development\n",
      "  warnings.warn(message)\n",
      "vocab.txt: 100%|██████████| 996k/996k [00:00<00:00, 3.12MB/s]\n",
      "tokenizer.json: 100%|██████████| 1.96M/1.96M [00:00<00:00, 3.03MB/s]\n",
      "config.json: 100%|██████████| 625/625 [00:00<00:00, 209kB/s]\n",
      "coarse.pt:   4%|▍         | 52.4M/1.25G [00:23<03:10, 6.29MB/s]Error while downloading from https://cdn-lfs.huggingface.co/repos/76/1e/761e5da7cc6a43df30e6091397aa6748ca4c7558722f8f960f355f87a51b4750/110580140ce5319b5b26849e24378d7594eb75ad11e7203e3091a876a07e4536?response-content-disposition=attachment%3B+filename*%3DUTF-8%27%27coarse.pt%3B+filename%3D%22coarse.pt%22%3B&Expires=1708353682&Policy=eyJTdGF0ZW1lbnQiOlt7IkNvbmRpdGlvbiI6eyJEYXRlTGVzc1RoYW4iOnsiQVdTOkVwb2NoVGltZSI6MTcwODM1MzY4Mn19LCJSZXNvdXJjZSI6Imh0dHBzOi8vY2RuLWxmcy5odWdnaW5nZmFjZS5jby9yZXBvcy83Ni8xZS83NjFlNWRhN2NjNmE0M2RmMzBlNjA5MTM5N2FhNjc0OGNhNGM3NTU4NzIyZjhmOTYwZjM1NWY4N2E1MWI0NzUwLzExMDU4MDE0MGNlNTMxOWI1YjI2ODQ5ZTI0Mzc4ZDc1OTRlYjc1YWQxMWU3MjAzZTMwOTFhODc2YTA3ZTQ1MzY%7EcmVzcG9uc2UtY29udGVudC1kaXNwb3NpdGlvbj0qIn1dfQ__&Signature=oeuHLmCu0q3d%7E0SlVD9du2CRaLYujEvWAbnKupuS3fHx0wUtaVEawehV7dliFiA6QObP74sPZi-vk4VEMVQfffBGnI9%7EnN3qXbBT7d5GzytULkS7MqmAiuqH5aPO3W1nBV8%7E4tgZdT3hTaD6n3iJ7720fYdUQ4U5rO-TYFHGw-19%7E1VKZo7Y5lehbw2OqLnzm%7Ernpe23eDcnUeqYndDmVzK%7Edxlp3GUtZbPtEGxIH3M7%7EReXWtyMuChH2JtjPanyf43BqdbEgZGigSOzHfI-4wfR5-3NIkOMkbr8MQdslw6vFc-o1vAPA1hfaOoTdMVzMyE0ZIpWGrIhG7kKyYkhIA__&Key-Pair-Id=KVTP0A1DKRTAX: HTTPSConnectionPool(host='cdn-lfs.huggingface.co', port=443): Read timed out.\n",
      "Trying to resume download...\n",
      "coarse.pt: 100%|██████████| 1.25G/1.25G [03:42<00:00, 5.40MB/s]\n",
      "coarse.pt:   4%|▍         | 52.4M/1.25G [04:25<1:41:23, 197kB/s]\n",
      "fine.pt: 100%|██████████| 1.11G/1.11G [03:36<00:00, 5.10MB/s]\n",
      "d:\\DE Projects\\generative ai\\text_to_speech\\tts_env\\lib\\site-packages\\torch\\nn\\utils\\weight_norm.py:28: UserWarning: torch.nn.utils.weight_norm is deprecated in favor of torch.nn.utils.parametrizations.weight_norm.\n",
      "  warnings.warn(\"torch.nn.utils.weight_norm is deprecated in favor of torch.nn.utils.parametrizations.weight_norm.\")\n",
      "Downloading: \"https://dl.fbaipublicfiles.com/encodec/v0/encodec_24khz-d7cc33bc.th\" to C:\\Users\\EFERRANCULLO/.cache\\torch\\hub\\checkpoints\\encodec_24khz-d7cc33bc.th\n",
      "100%|██████████| 88.9M/88.9M [00:53<00:00, 1.74MB/s]\n"
     ]
    },
    {
     "name": "stdout",
     "output_type": "stream",
     "text": [
      "CPU times: total: 1min 20s\n",
      "Wall time: 17min 39s\n"
     ]
    }
   ],
   "source": [
    "%%time\n",
    "preload_models()"
   ]
  },
  {
   "cell_type": "code",
   "execution_count": 3,
   "metadata": {},
   "outputs": [
    {
     "name": "stderr",
     "output_type": "stream",
     "text": [
      "100%|██████████| 664/664 [00:45<00:00, 14.55it/s]\n",
      "100%|██████████| 34/34 [03:34<00:00,  6.32s/it]\n"
     ]
    },
    {
     "name": "stdout",
     "output_type": "stream",
     "text": [
      "took 383s to generate 13s of audio\n"
     ]
    }
   ],
   "source": [
    "t0 = time.time()\n",
    "text = \"In the light of the moon, a little egg lay on a leaf\"\n",
    "audio_array = generate_audio(text)\n",
    "generation_duration_s = time.time() - t0\n",
    "audio_duration_s = audio_array.shape[0] / SAMPLE_RATE\n",
    "\n",
    "print(f\"took {generation_duration_s:.0f}s to generate {audio_duration_s:.0f}s of audio\")"
   ]
  },
  {
   "cell_type": "code",
   "execution_count": 4,
   "metadata": {},
   "outputs": [
    {
     "data": {
      "text/plain": [
       "8"
      ]
     },
     "execution_count": 4,
     "metadata": {},
     "output_type": "execute_result"
    }
   ],
   "source": [
    "os.cpu_count()"
   ]
  }
 ],
 "metadata": {
  "kernelspec": {
   "display_name": "tts_env",
   "language": "python",
   "name": "python3"
  },
  "language_info": {
   "codemirror_mode": {
    "name": "ipython",
    "version": 3
   },
   "file_extension": ".py",
   "mimetype": "text/x-python",
   "name": "python",
   "nbconvert_exporter": "python",
   "pygments_lexer": "ipython3",
   "version": "3.9.5"
  }
 },
 "nbformat": 4,
 "nbformat_minor": 2
}
